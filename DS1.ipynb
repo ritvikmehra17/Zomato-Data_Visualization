{
 "cells": [
  {
   "cell_type": "code",
   "execution_count": 67,
   "metadata": {},
   "outputs": [],
   "source": [
    "import pandas as pd\n",
    "import numpy as np\n",
    "import matplotlib.pyplot as plt"
   ]
  },
  {
   "cell_type": "code",
   "execution_count": 68,
   "metadata": {},
   "outputs": [],
   "source": [
    "df=pd.read_csv('input/zomato.csv')"
   ]
  },
  {
   "cell_type": "code",
   "execution_count": 69,
   "metadata": {},
   "outputs": [
    {
     "name": "stdout",
     "output_type": "stream",
     "text": [
      "<class 'pandas.core.frame.DataFrame'>\n",
      "RangeIndex: 51717 entries, 0 to 51716\n",
      "Data columns (total 17 columns):\n",
      "url                            51717 non-null object\n",
      "address                        51717 non-null object\n",
      "name                           51717 non-null object\n",
      "online_order                   51717 non-null object\n",
      "book_table                     51717 non-null object\n",
      "rate                           43942 non-null object\n",
      "votes                          51717 non-null int64\n",
      "phone                          50509 non-null object\n",
      "location                       51696 non-null object\n",
      "rest_type                      51490 non-null object\n",
      "dish_liked                     23639 non-null object\n",
      "cuisines                       51672 non-null object\n",
      "approx_cost(for two people)    51371 non-null object\n",
      "reviews_list                   51717 non-null object\n",
      "menu_item                      51717 non-null object\n",
      "listed_in(type)                51717 non-null object\n",
      "listed_in(city)                51717 non-null object\n",
      "dtypes: int64(1), object(16)\n",
      "memory usage: 6.7+ MB\n"
     ]
    }
   ],
   "source": [
    "df.info()"
   ]
  },
  {
   "cell_type": "code",
   "execution_count": 70,
   "metadata": {},
   "outputs": [],
   "source": [
    "df=df.dropna(axis=0,how=\"any\")"
   ]
  },
  {
   "cell_type": "code",
   "execution_count": 71,
   "metadata": {},
   "outputs": [
    {
     "name": "stdout",
     "output_type": "stream",
     "text": [
      "<class 'pandas.core.frame.DataFrame'>\n",
      "Int64Index: 23193 entries, 0 to 51715\n",
      "Data columns (total 17 columns):\n",
      "url                            23193 non-null object\n",
      "address                        23193 non-null object\n",
      "name                           23193 non-null object\n",
      "online_order                   23193 non-null object\n",
      "book_table                     23193 non-null object\n",
      "rate                           23193 non-null object\n",
      "votes                          23193 non-null int64\n",
      "phone                          23193 non-null object\n",
      "location                       23193 non-null object\n",
      "rest_type                      23193 non-null object\n",
      "dish_liked                     23193 non-null object\n",
      "cuisines                       23193 non-null object\n",
      "approx_cost(for two people)    23193 non-null object\n",
      "reviews_list                   23193 non-null object\n",
      "menu_item                      23193 non-null object\n",
      "listed_in(type)                23193 non-null object\n",
      "listed_in(city)                23193 non-null object\n",
      "dtypes: int64(1), object(16)\n",
      "memory usage: 3.2+ MB\n"
     ]
    }
   ],
   "source": [
    "df.info()"
   ]
  },
  {
   "cell_type": "code",
   "execution_count": 72,
   "metadata": {},
   "outputs": [
    {
     "data": {
      "text/plain": [
       "0        Yes\n",
       "1        Yes\n",
       "2        Yes\n",
       "3         No\n",
       "4         No\n",
       "5        Yes\n",
       "7        Yes\n",
       "8        Yes\n",
       "9        Yes\n",
       "10       Yes\n",
       "11       Yes\n",
       "12       Yes\n",
       "13        No\n",
       "14       Yes\n",
       "15       Yes\n",
       "16       Yes\n",
       "17       Yes\n",
       "18        No\n",
       "20       Yes\n",
       "21       Yes\n",
       "23       Yes\n",
       "29        No\n",
       "30       Yes\n",
       "31       Yes\n",
       "33       Yes\n",
       "34       Yes\n",
       "35       Yes\n",
       "37       Yes\n",
       "38       Yes\n",
       "40       Yes\n",
       "        ... \n",
       "51677     No\n",
       "51681     No\n",
       "51682     No\n",
       "51683     No\n",
       "51684     No\n",
       "51685     No\n",
       "51686     No\n",
       "51687    Yes\n",
       "51688    Yes\n",
       "51689     No\n",
       "51690     No\n",
       "51691     No\n",
       "51692    Yes\n",
       "51693    Yes\n",
       "51694    Yes\n",
       "51695    Yes\n",
       "51696     No\n",
       "51697    Yes\n",
       "51698     No\n",
       "51699    Yes\n",
       "51700     No\n",
       "51701    Yes\n",
       "51702     No\n",
       "51703    Yes\n",
       "51704     No\n",
       "51705    Yes\n",
       "51707     No\n",
       "51708     No\n",
       "51711     No\n",
       "51715     No\n",
       "Name: online_order, Length: 23193, dtype: object"
      ]
     },
     "execution_count": 72,
     "metadata": {},
     "output_type": "execute_result"
    }
   ],
   "source": [
    "df.online_order=df.iloc[:,3].values\n",
    "df.online_order"
   ]
  },
  {
   "cell_type": "code",
   "execution_count": null,
   "metadata": {},
   "outputs": [],
   "source": []
  },
  {
   "cell_type": "code",
   "execution_count": 73,
   "metadata": {},
   "outputs": [],
   "source": [
    "df.rate = df.rate.str.replace('/5','')"
   ]
  },
  {
   "cell_type": "code",
   "execution_count": 74,
   "metadata": {},
   "outputs": [],
   "source": [
    "df.rate = df.rate.str.replace('NEW','0').replace('-','')\n",
    "df.rate = df.rate.str.strip()\n",
    "df.rate =df.rate.replace('','0')\n",
    "df.rate=df.rate.astype(float)"
   ]
  },
  {
   "cell_type": "code",
   "execution_count": 75,
   "metadata": {},
   "outputs": [
    {
     "data": {
      "text/plain": [
       "0        4.1\n",
       "1        4.1\n",
       "2        3.8\n",
       "3        3.7\n",
       "4        3.8\n",
       "5        3.8\n",
       "7        4.6\n",
       "8        4.0\n",
       "9        4.2\n",
       "10       4.1\n",
       "11       4.2\n",
       "12       4.2\n",
       "13       4.0\n",
       "14       3.8\n",
       "15       3.8\n",
       "16       3.9\n",
       "17       3.8\n",
       "18       3.9\n",
       "20       3.0\n",
       "21       3.7\n",
       "23       3.6\n",
       "29       3.8\n",
       "30       4.0\n",
       "31       2.8\n",
       "33       3.9\n",
       "34       4.2\n",
       "35       3.9\n",
       "37       4.2\n",
       "38       4.4\n",
       "40       3.8\n",
       "        ... \n",
       "51677    2.5\n",
       "51681    4.3\n",
       "51682    4.5\n",
       "51683    4.1\n",
       "51684    4.3\n",
       "51685    4.7\n",
       "51686    4.6\n",
       "51687    4.4\n",
       "51688    4.0\n",
       "51689    4.1\n",
       "51690    4.2\n",
       "51691    4.2\n",
       "51692    3.9\n",
       "51693    4.1\n",
       "51694    4.1\n",
       "51695    4.2\n",
       "51696    4.3\n",
       "51697    4.4\n",
       "51698    3.9\n",
       "51699    4.1\n",
       "51700    4.1\n",
       "51701    4.1\n",
       "51702    4.0\n",
       "51703    3.9\n",
       "51704    4.0\n",
       "51705    3.8\n",
       "51707    3.9\n",
       "51708    2.8\n",
       "51711    2.5\n",
       "51715    4.3\n",
       "Name: rate, Length: 23193, dtype: float64"
      ]
     },
     "execution_count": 75,
     "metadata": {},
     "output_type": "execute_result"
    }
   ],
   "source": [
    "df.rate"
   ]
  },
  {
   "cell_type": "code",
   "execution_count": 76,
   "metadata": {},
   "outputs": [],
   "source": [
    "from sklearn.preprocessing import LabelEncoder"
   ]
  },
  {
   "cell_type": "code",
   "execution_count": 77,
   "metadata": {},
   "outputs": [
    {
     "data": {
      "text/plain": [
       "0        1\n",
       "1        1\n",
       "2        1\n",
       "3        0\n",
       "4        0\n",
       "5        1\n",
       "7        1\n",
       "8        1\n",
       "9        1\n",
       "10       1\n",
       "11       1\n",
       "12       1\n",
       "13       0\n",
       "14       1\n",
       "15       1\n",
       "16       1\n",
       "17       1\n",
       "18       0\n",
       "20       1\n",
       "21       1\n",
       "23       1\n",
       "29       0\n",
       "30       1\n",
       "31       1\n",
       "33       1\n",
       "34       1\n",
       "35       1\n",
       "37       1\n",
       "38       1\n",
       "40       1\n",
       "        ..\n",
       "51677    0\n",
       "51681    0\n",
       "51682    0\n",
       "51683    0\n",
       "51684    0\n",
       "51685    0\n",
       "51686    0\n",
       "51687    1\n",
       "51688    1\n",
       "51689    0\n",
       "51690    0\n",
       "51691    0\n",
       "51692    1\n",
       "51693    1\n",
       "51694    1\n",
       "51695    1\n",
       "51696    0\n",
       "51697    1\n",
       "51698    0\n",
       "51699    1\n",
       "51700    0\n",
       "51701    1\n",
       "51702    0\n",
       "51703    1\n",
       "51704    0\n",
       "51705    1\n",
       "51707    0\n",
       "51708    0\n",
       "51711    0\n",
       "51715    0\n",
       "Name: online_order, Length: 23193, dtype: int64"
      ]
     },
     "execution_count": 77,
     "metadata": {},
     "output_type": "execute_result"
    }
   ],
   "source": [
    "encoder = LabelEncoder()\n",
    "encoder.fit(df.online_order)\n",
    "df.online_order = encoder.transform(df.online_order)\n",
    "df.online_order"
   ]
  },
  {
   "cell_type": "code",
   "execution_count": 78,
   "metadata": {},
   "outputs": [
    {
     "data": {
      "text/plain": [
       "0        Yes\n",
       "1         No\n",
       "2         No\n",
       "3         No\n",
       "4         No\n",
       "5         No\n",
       "7        Yes\n",
       "8         No\n",
       "9         No\n",
       "10        No\n",
       "11       Yes\n",
       "12       Yes\n",
       "13        No\n",
       "14        No\n",
       "15        No\n",
       "16        No\n",
       "17        No\n",
       "18        No\n",
       "20        No\n",
       "21        No\n",
       "23        No\n",
       "29        No\n",
       "30        No\n",
       "31        No\n",
       "33        No\n",
       "34        No\n",
       "35        No\n",
       "37        No\n",
       "38        No\n",
       "40        No\n",
       "        ... \n",
       "51677     No\n",
       "51681    Yes\n",
       "51682    Yes\n",
       "51683    Yes\n",
       "51684    Yes\n",
       "51685    Yes\n",
       "51686     No\n",
       "51687    Yes\n",
       "51688    Yes\n",
       "51689    Yes\n",
       "51690    Yes\n",
       "51691    Yes\n",
       "51692    Yes\n",
       "51693    Yes\n",
       "51694     No\n",
       "51695    Yes\n",
       "51696    Yes\n",
       "51697    Yes\n",
       "51698     No\n",
       "51699    Yes\n",
       "51700    Yes\n",
       "51701    Yes\n",
       "51702     No\n",
       "51703    Yes\n",
       "51704    Yes\n",
       "51705    Yes\n",
       "51707     No\n",
       "51708     No\n",
       "51711     No\n",
       "51715    Yes\n",
       "Name: book_table, Length: 23193, dtype: object"
      ]
     },
     "execution_count": 78,
     "metadata": {},
     "output_type": "execute_result"
    }
   ],
   "source": [
    "df.book_table=df.iloc[:,4].values\n",
    "df.book_table"
   ]
  },
  {
   "cell_type": "code",
   "execution_count": 79,
   "metadata": {},
   "outputs": [
    {
     "data": {
      "text/plain": [
       "0        1\n",
       "1        0\n",
       "2        0\n",
       "3        0\n",
       "4        0\n",
       "5        0\n",
       "7        1\n",
       "8        0\n",
       "9        0\n",
       "10       0\n",
       "11       1\n",
       "12       1\n",
       "13       0\n",
       "14       0\n",
       "15       0\n",
       "16       0\n",
       "17       0\n",
       "18       0\n",
       "20       0\n",
       "21       0\n",
       "23       0\n",
       "29       0\n",
       "30       0\n",
       "31       0\n",
       "33       0\n",
       "34       0\n",
       "35       0\n",
       "37       0\n",
       "38       0\n",
       "40       0\n",
       "        ..\n",
       "51677    0\n",
       "51681    1\n",
       "51682    1\n",
       "51683    1\n",
       "51684    1\n",
       "51685    1\n",
       "51686    0\n",
       "51687    1\n",
       "51688    1\n",
       "51689    1\n",
       "51690    1\n",
       "51691    1\n",
       "51692    1\n",
       "51693    1\n",
       "51694    0\n",
       "51695    1\n",
       "51696    1\n",
       "51697    1\n",
       "51698    0\n",
       "51699    1\n",
       "51700    1\n",
       "51701    1\n",
       "51702    0\n",
       "51703    1\n",
       "51704    1\n",
       "51705    1\n",
       "51707    0\n",
       "51708    0\n",
       "51711    0\n",
       "51715    1\n",
       "Name: book_table, Length: 23193, dtype: int64"
      ]
     },
     "execution_count": 79,
     "metadata": {},
     "output_type": "execute_result"
    }
   ],
   "source": [
    "encoder = LabelEncoder()\n",
    "encoder.fit(df.book_table)\n",
    "df.book_table = encoder.transform(df.book_table)\n",
    "df.book_table"
   ]
  },
  {
   "cell_type": "markdown",
   "metadata": {},
   "source": [
    "# Plot showing resturant taking  online or ofline orders"
   ]
  },
  {
   "cell_type": "code",
   "execution_count": 80,
   "metadata": {},
   "outputs": [
    {
     "data": {
      "text/plain": [
       "<matplotlib.axes._subplots.AxesSubplot at 0x1dde12242e8>"
      ]
     },
     "execution_count": 80,
     "metadata": {},
     "output_type": "execute_result"
    },
    {
     "data": {
      "image/png": "[encoded data removed]",
      "text/plain": [
       "<Figure size 432x288 with 1 Axes>"
      ]
     },
     "metadata": {
      "needs_background": "light"
     },
     "output_type": "display_data"
    }
   ],
   "source": [
    "df=pd.DataFrame(list(zip(df.book_table.head(10),df.online_order.head(10))),\n",
    "               columns=[\"Book_table\",\"Online_order\"],\n",
    "               index=df.name.head(10)\n",
    "               )\n",
    "df.plot(kind=\"bar\")"
   ]
  },
  {
   "cell_type": "code",
   "execution_count": null,
   "metadata": {},
   "outputs": [],
   "source": []
  }
 ],
 "metadata": {
  "kernelspec": {
   "display_name": "Python 3",
   "language": "python",
   "name": "python3"
  },
  "language_info": {
   "codemirror_mode": {
    "name": "ipython",
    "version": 3
   },
   "file_extension": ".py",
   "mimetype": "text/x-python",
   "name": "python",
   "nbconvert_exporter": "python",
   "pygments_lexer": "ipython3",
   "version": "3.7.0"
  }
 },
 "nbformat": 4,
 "nbformat_minor": 2
}
